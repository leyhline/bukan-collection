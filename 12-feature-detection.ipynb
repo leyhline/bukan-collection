{
 "cells": [
  {
   "cell_type": "code",
   "execution_count": 1,
   "metadata": {},
   "outputs": [],
   "source": [
    "import cv2 as cv\n",
    "import numpy as np\n",
    "import os.path\n",
    "import pandas as pd\n",
    "from helpers.features import read_offset_csv, preprocess, transform_offsets_to_paths, show_image\n",
    "from helpers.features import detect_keypoints_and_descriptors\n",
    "from helpers.features import detect_keypoints_and_descriptors_orb, detect_keypoints_and_descriptors_akaze, detect_keypoints_and_descriptors_brisk\n",
    "from helpers.features import precision_recall_total, cross_match"
   ]
  },
  {
   "cell_type": "code",
   "execution_count": 2,
   "metadata": {},
   "outputs": [],
   "source": [
    "shuuchin1 = read_offset_csv(\"annotations/shuuchinbukan-1.csv\")\n",
    "shuuchin2 = read_offset_csv(\"annotations/shuuchinbukan-2.csv\")\n",
    "shuuchin3 = read_offset_csv(\"annotations/shuuchinbukan-3.csv\")"
   ]
  },
  {
   "cell_type": "code",
   "execution_count": 3,
   "metadata": {},
   "outputs": [],
   "source": [
    "shuuchin1_paths = transform_offsets_to_paths(shuuchin1)\n",
    "shuuchin2_paths = transform_offsets_to_paths(shuuchin2)\n",
    "shuuchin3_paths = transform_offsets_to_paths(shuuchin3)"
   ]
  },
  {
   "cell_type": "markdown",
   "metadata": {},
   "source": [
    "## Shuuchin1"
   ]
  },
  {
   "cell_type": "markdown",
   "metadata": {},
   "source": [
    "### ORB"
   ]
  },
  {
   "cell_type": "code",
   "execution_count": null,
   "metadata": {},
   "outputs": [
    {
     "name": "stdout",
     "output_type": "stream",
     "text": [
      "Getting all descriptors took 422.0554910999999 seconds.\n"
     ]
    }
   ],
   "source": [
    "detect_tims_s_orb, (shuuchin1_keypoints_orb, shuuchin1_descriptors_orb) = detect_keypoints_and_descriptors_orb(shuuchin1_paths)\n",
    "print(\"Getting all descriptors took\", detect_tims_s_orb, \"seconds.\")\n",
    "match_time_s_orb, matches_df_orb = cross_match(shuuchin1_descriptors_orb)\n",
    "print(\"Getting all the cross matches took\", match_time_s_orb, \"seconds.\")"
   ]
  },
  {
   "cell_type": "code",
   "execution_count": null,
   "metadata": {},
   "outputs": [],
   "source": [
    "pr_results_orb = precision_recall_total(matches_df_orb, 11, 36, 3)"
   ]
  },
  {
   "cell_type": "markdown",
   "metadata": {},
   "source": [
    "### AKAZE UPRIGHT"
   ]
  },
  {
   "cell_type": "code",
   "execution_count": null,
   "metadata": {},
   "outputs": [],
   "source": [
    "detect_time_s_akaze, (shuuchin1_keypoints_akaze, shuuchin1_descriptors_akaze) =  detect_keypoints_and_descriptors_akaze(shuuchin1_paths)\n",
    "print(\"Getting all descriptors took\", detect_time_s_akaze, \"seconds.\")\n",
    "match_time_s_akaze, matches_df_akaze = cross_match(shuuchin1_descriptors_akaze)\n",
    "print(\"Getting all the cross matches took\", match_time_s_akaze, \"seconds.\")"
   ]
  },
  {
   "cell_type": "code",
   "execution_count": null,
   "metadata": {},
   "outputs": [],
   "source": [
    "pr_results_akaze = precision_recall_total(matches_df_akaze, 26, 51, 3)"
   ]
  },
  {
   "cell_type": "markdown",
   "metadata": {},
   "source": [
    "### AKAZE"
   ]
  },
  {
   "cell_type": "code",
   "execution_count": null,
   "metadata": {},
   "outputs": [],
   "source": [
    "akaze = cv.AKAZE_create(descriptor_size=0, threshold=0.008)\n",
    "detect_time_s_akaze0, (shuuchin1_keypoints_akaze0, shuuchin1_descriptors_akaze0) =  detect_keypoints_and_descriptors(shuuchin1_paths, akaze)\n",
    "print(\"Getting all descriptors took\", detect_time_s_akaze0, \"seconds.\")\n",
    "match_time_s_akaze0, matches_df_akaze0 = cross_match(shuuchin1_descriptors_akaze0)\n",
    "print(\"Getting all the cross matches took\", match_time_s_akaze0, \"seconds.\")"
   ]
  },
  {
   "cell_type": "code",
   "execution_count": null,
   "metadata": {},
   "outputs": [],
   "source": [
    "pr_results_akaze0 = precision_recall_total(matches_df_akaze0, 26, 51, 3)"
   ]
  },
  {
   "cell_type": "markdown",
   "metadata": {},
   "source": [
    "### BRISK"
   ]
  },
  {
   "cell_type": "code",
   "execution_count": null,
   "metadata": {},
   "outputs": [],
   "source": [
    "detect_time_s_brisk, (shuuchin1_keypoints_brisk, shuuchin1_descriptors_brisk) = detect_keypoints_and_descriptors_brisk(shuuchin1_paths)\n",
    "print(\"Getting all descriptors took\", detect_time_s_brisk, \"seconds.\")\n",
    "match_time_s_brisk, matches_df_brisk = cross_match(shuuchin1_descriptors_brisk)\n",
    "print(\"Getting all the cross matches took\", match_time_s_brisk, \"seconds.\")"
   ]
  },
  {
   "cell_type": "code",
   "execution_count": null,
   "metadata": {},
   "outputs": [],
   "source": [
    "pr_results_brisk = precision_recall_total(matches_df_brisk, 41, 76, 3)"
   ]
  },
  {
   "cell_type": "code",
   "execution_count": null,
   "metadata": {},
   "outputs": [],
   "source": []
  },
  {
   "cell_type": "code",
   "execution_count": null,
   "metadata": {},
   "outputs": [],
   "source": []
  }
 ],
 "metadata": {
  "kernelspec": {
   "display_name": "Python 3",
   "language": "python",
   "name": "python3"
  },
  "language_info": {
   "codemirror_mode": {
    "name": "ipython",
    "version": 3
   },
   "file_extension": ".py",
   "mimetype": "text/x-python",
   "name": "python",
   "nbconvert_exporter": "python",
   "pygments_lexer": "ipython3",
   "version": "3.8.2"
  }
 },
 "nbformat": 4,
 "nbformat_minor": 4
}
